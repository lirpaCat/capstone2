{
 "cells": [
  {
   "cell_type": "markdown",
   "metadata": {},
   "source": [
    "<b>Betweenness Centrality for Removing Nodes, part 2</b>\n",
    "\n",
    "This notebook is for reviewing how to find the betweenness centrality for nodes and finding how to remove individual nodes from graphs, and how that affects the set.\n",
    "\n",
    "Part 2 reviews removing edges versus nodes."
   ]
  },
  {
   "cell_type": "code",
   "execution_count": 3,
   "metadata": {
    "collapsed": true
   },
   "outputs": [],
   "source": [
    "import csv\n",
    "\n",
    "import numpy as np\n",
    "import networkx as nx \n",
    "import pandas as pd\n",
    "import matplotlib.pyplot as plt"
   ]
  },
  {
   "cell_type": "code",
   "execution_count": 4,
   "metadata": {
    "collapsed": true
   },
   "outputs": [],
   "source": [
    "#Select some data to work with for this session\n",
    "\n",
    "#first create list using all columns\n",
    "allData = []\n",
    "with open('one.csv', 'r') as f:\n",
    "    filereader = csv.reader(f, delimiter=\"\\t\", quotechar='\"')\n",
    "    #next(filereader) # skips header row, we don't want to skip since we don't have a header\n",
    "    for row in filereader:\n",
    "            allData.append(row)\n",
    "            \n",
    "            \n",
    "#for this practice, lets keep seperate some data by dates and we can compare them!\n",
    "#All the interactions during the 1840's using a new bit of code\n",
    "forties = []\n",
    "edge = []\n",
    "i=0\n",
    "for x in allData:\n",
    "    date=x[2].split(\"/\")\n",
    "    if len(date)==3:\n",
    "        if date[2].startswith('4'): #This helps single out decades instead of specific years\n",
    "        #if date[2]==\"49\":\n",
    "            edge.append([x[3],x[4], x[2]])\n",
    "            forties.append(edge[i])\n",
    "            i=i+1\n",
    "            \n",
    "#fix the solver column by seperating out responders, whitespace, and formatting unknowns\n",
    "fixedSolver = []\n",
    "edge = []\n",
    "i=0\n",
    "\n",
    "unknown = {\"\", \"Unknown\", \"unknown\"}\n",
    "for x in forties:\n",
    "    if \";\" in x[1]:\n",
    "        solvers = x[1].split(\";\")\n",
    "        for y in solvers:\n",
    "            one=x[0].replace(' ', '')\n",
    "            two=y.replace(' ', '')\n",
    "            if(one in unknown):\n",
    "                one=\"UNKNOWN\"\n",
    "            if(two in unknown):\n",
    "                two=\"UNKNOWN\"\n",
    "            fixedSolver.append([one,two])\n",
    "    else:\n",
    "        one=x[0].replace(' ', '')\n",
    "        two=x[1].replace(' ', '')\n",
    "        if(one in unknown):\n",
    "            one=\"UNKNOWN\"\n",
    "        if(two in unknown):\n",
    "            two=\"UNKNOWN\"\n",
    "        fixedSolver.append([one,two])\n",
    "    #i=i+1"
   ]
  },
  {
   "cell_type": "markdown",
   "metadata": {},
   "source": [
    "<b>Begin trying to select edges to remove</b>"
   ]
  },
  {
   "cell_type": "code",
   "execution_count": 5,
   "metadata": {
    "collapsed": true
   },
   "outputs": [],
   "source": [
    "#find the edges with the highest centrality\n",
    "from networkx import edge_betweenness_centrality\n",
    "import operator\n",
    "def my_central_edge(G):\n",
    "    centrality = edge_betweenness_centrality(G)\n",
    "    sortedCent = sorted(centrality.items(), key=operator.itemgetter(1), reverse=True)\n",
    "    edge = sortedCent[0]\n",
    "    return edge[0]"
   ]
  },
  {
   "cell_type": "code",
   "execution_count": 6,
   "metadata": {
    "collapsed": true
   },
   "outputs": [],
   "source": [
    "#make new communities by removing one edge at a time\n",
    "from networkx import number_connected_components\n",
    "def make_community(edgeList, iterations):\n",
    "    \n",
    "    tempList = list(edgeList)\n",
    "    graph = nx.from_edgelist(edgeList)\n",
    "    tempG = nx.from_edgelist(tempList)\n",
    "    \n",
    "    communities = number_connected_components(graph)\n",
    "    compCommunities = number_connected_components(tempG)\n",
    "\n",
    "    while compCommunities < communities + iterations:\n",
    "        edge = my_central_edge(tempG)\n",
    "        for x in tempList:\n",
    "            if (x[0] == edge[0] and x[1] == edge[1]) or (x[0] == edge[1] and x[1] == edge[0]):\n",
    "                print(x)\n",
    "                tempList.remove(x)\n",
    "            tempG = nx.from_edgelist(tempList)\n",
    "            compCommunities = number_connected_components(tempG)\n",
    "    return tempList"
   ]
  },
  {
   "cell_type": "code",
   "execution_count": 7,
   "metadata": {},
   "outputs": [
    {
     "name": "stdout",
     "output_type": "stream",
     "text": [
      "['ThomasWilkinson', 'J.W.']\n",
      "['ThomasWilkinson', 'ThomasWilkinson*']\n",
      "['Geometricus', 'UNKNOWN']\n",
      "['Geometricus', 'UNKNOWN']\n"
     ]
    }
   ],
   "source": [
    "#test, removed the correct edges according to last week's graph!\n",
    "colorList = make_community(fixedSolver, 1)"
   ]
  },
  {
   "cell_type": "code",
   "execution_count": 8,
   "metadata": {},
   "outputs": [
    {
     "name": "stdout",
     "output_type": "stream",
     "text": [
      "{'T.Morley', 'S.A.G.', 'UNKNOWN', 'Collegian', 'Enquirer', 'J.S.', 'ThomasWilkinson*', 'J.W.', 'ThomasMorley', 'J.M.[ofBiggleswade]*', 'Gomphos', 'J.M.[fromPlymouth]*', 'T.J.L.'}\n",
      "{'SeptimusTebay', 'T.Wilkinson*', 'J.S.*', 'ThomasWilkinson', 'Philo-Mathematicus', 'SeptimusTebay*', 'Geometricus', 'Theta', 'J.M.[ofBiggleswade]'}\n",
      "{'J.M.*', 'Digamma*', 'ThomasCranstoun*', 'AnEsteemedCorrespondent', 'JohnGiblin*', 'J.Alsop'}\n"
     ]
    },
    {
     "data": {
      "text/plain": [
       "[None, None, None]"
      ]
     },
     "execution_count": 8,
     "metadata": {},
     "output_type": "execute_result"
    }
   ],
   "source": [
    "#returns dictionaries, I want to use these to color future nodes\n",
    "#note: it returns the largest community first and the smallest last\n",
    "from networkx import connected_components\n",
    "colorMap = nx.from_edgelist(colorList)\n",
    "[print(c) for c in sorted(nx.connected_components(colorMap), key=len, reverse=True)]"
   ]
  },
  {
   "cell_type": "code",
   "execution_count": 9,
   "metadata": {},
   "outputs": [
    {
     "data": {
      "text/plain": [
       "[{'Collegian',\n",
       "  'Enquirer',\n",
       "  'Gomphos',\n",
       "  'J.M.[fromPlymouth]*',\n",
       "  'J.M.[ofBiggleswade]*',\n",
       "  'J.S.',\n",
       "  'J.W.',\n",
       "  'S.A.G.',\n",
       "  'T.J.L.',\n",
       "  'T.Morley',\n",
       "  'ThomasMorley',\n",
       "  'ThomasWilkinson*',\n",
       "  'UNKNOWN'},\n",
       " {'Geometricus',\n",
       "  'J.M.[ofBiggleswade]',\n",
       "  'J.S.*',\n",
       "  'Philo-Mathematicus',\n",
       "  'SeptimusTebay',\n",
       "  'SeptimusTebay*',\n",
       "  'T.Wilkinson*',\n",
       "  'Theta',\n",
       "  'ThomasWilkinson'},\n",
       " {'AnEsteemedCorrespondent',\n",
       "  'Digamma*',\n",
       "  'J.Alsop',\n",
       "  'J.M.*',\n",
       "  'JohnGiblin*',\n",
       "  'ThomasCranstoun*'}]"
      ]
     },
     "execution_count": 9,
     "metadata": {},
     "output_type": "execute_result"
    }
   ],
   "source": [
    "#add each dictionary to a list so they're easier to pick from\n",
    "nodes = []\n",
    "[nodes.append(c) for c in sorted(nx.connected_components(colorMap), key=len, reverse=True)]\n",
    "nodes"
   ]
  },
  {
   "cell_type": "code",
   "execution_count": 10,
   "metadata": {},
   "outputs": [
    {
     "data": {
      "text/plain": [
       "[['T.Morley',\n",
       "  'S.A.G.',\n",
       "  'UNKNOWN',\n",
       "  'Collegian',\n",
       "  'Enquirer',\n",
       "  'J.S.',\n",
       "  'ThomasWilkinson*',\n",
       "  'J.W.',\n",
       "  'ThomasMorley',\n",
       "  'J.M.[ofBiggleswade]*',\n",
       "  'Gomphos',\n",
       "  'J.M.[fromPlymouth]*',\n",
       "  'T.J.L.'],\n",
       " ['SeptimusTebay',\n",
       "  'T.Wilkinson*',\n",
       "  'J.S.*',\n",
       "  'ThomasWilkinson',\n",
       "  'Philo-Mathematicus',\n",
       "  'SeptimusTebay*',\n",
       "  'Geometricus',\n",
       "  'Theta',\n",
       "  'J.M.[ofBiggleswade]'],\n",
       " ['J.M.*',\n",
       "  'Digamma*',\n",
       "  'ThomasCranstoun*',\n",
       "  'AnEsteemedCorrespondent',\n",
       "  'JohnGiblin*',\n",
       "  'J.Alsop']]"
      ]
     },
     "execution_count": 10,
     "metadata": {},
     "output_type": "execute_result"
    }
   ],
   "source": [
    "nodeList = []\n",
    "i=0;\n",
    "for x in nodes:\n",
    "    nodeList.append([])\n",
    "    for y in x:\n",
    "        nodeList[i].append(y)\n",
    "    i+=1\n",
    "nodeList"
   ]
  },
  {
   "cell_type": "code",
   "execution_count": 11,
   "metadata": {},
   "outputs": [],
   "source": [
    "#RESCALE\n",
    "D = nx.Graph()\n",
    "D.add_edges_from(fixedSolver)\n",
    "\n",
    "#width, length\n",
    "plt.figure(figsize=(20,20))\n",
    "plt.axis('off')\n",
    "\n",
    "# generate the layout and place nodes and edges\n",
    "layout = nx.circular_layout(D, scale=3)\n",
    "\n",
    "# plot nodes, labels, and edges with options\n",
    "nx.draw_networkx_nodes(D,pos=layout,\n",
    "                       nodelist=nodeList[0],\n",
    "                       node_color='red',\n",
    "                       node_size=500,\n",
    "                   alpha=0.8)\n",
    "nx.draw_networkx_nodes(D,pos=layout,\n",
    "                       nodelist=nodeList[1],\n",
    "                       node_color='purple',\n",
    "                       node_size=500,\n",
    "                   alpha=0.8)\n",
    "nx.draw_networkx_nodes(D,pos=layout,\n",
    "                       nodelist=nodeList[2],\n",
    "                       node_color='blue',\n",
    "                       node_size=500,\n",
    "                   alpha=0.8)\n",
    "nx.draw_networkx_edges(D, pos=layout, width=3, style='dotted',\n",
    "                       edge_color='orange')\n",
    "nx.draw_networkx_labels(D, pos=layout, font_size=14)\n",
    "\n",
    "#plt.show()\n",
    "plt.savefig(\"week7betweenness.png\", format=\"PNG\")"
   ]
  },
  {
   "cell_type": "code",
   "execution_count": 39,
   "metadata": {},
   "outputs": [
    {
     "data": {
      "text/plain": [
       "[[['T.Morley', 'UNKNOWN'],\n",
       "  ['Enquirer', 'T.Morley'],\n",
       "  ['T.Morley', 'T.J.L.'],\n",
       "  ['S.A.G.', 'UNKNOWN'],\n",
       "  ['T.Morley', 'UNKNOWN'],\n",
       "  ['S.A.G.', 'UNKNOWN'],\n",
       "  ['UNKNOWN', 'UNKNOWN'],\n",
       "  ['UNKNOWN', 'J.S.'],\n",
       "  ['UNKNOWN', 'J.S.'],\n",
       "  ['UNKNOWN', 'ThomasWilkinson*'],\n",
       "  ['UNKNOWN', 'ThomasWilkinson*'],\n",
       "  ['UNKNOWN', 'J.W.'],\n",
       "  ['J.W.', 'UNKNOWN'],\n",
       "  ['ThomasMorley', 'UNKNOWN'],\n",
       "  ['ThomasMorley', 'UNKNOWN'],\n",
       "  ['UNKNOWN', 'J.M.[ofBiggleswade]*'],\n",
       "  ['UNKNOWN', 'J.M.[ofBiggleswade]*'],\n",
       "  ['Gomphos', 'UNKNOWN'],\n",
       "  ['Collegian', 'J.W.'],\n",
       "  ['Enquirer', 'T.Morley'],\n",
       "  ['UNKNOWN', 'J.S.'],\n",
       "  ['UNKNOWN', 'J.S.'],\n",
       "  ['ThomasMorley', 'J.S.'],\n",
       "  ['UNKNOWN', 'ThomasWilkinson*'],\n",
       "  ['UNKNOWN', 'ThomasWilkinson*'],\n",
       "  ['ThomasMorley', 'ThomasWilkinson*'],\n",
       "  ['UNKNOWN', 'J.W.'],\n",
       "  ['J.W.', 'UNKNOWN'],\n",
       "  ['Collegian', 'J.W.'],\n",
       "  ['ThomasMorley', 'J.W.'],\n",
       "  ['T.J.L.', 'J.W.'],\n",
       "  ['ThomasMorley', 'UNKNOWN'],\n",
       "  ['ThomasMorley', 'UNKNOWN'],\n",
       "  ['ThomasMorley', 'J.S.'],\n",
       "  ['ThomasMorley', 'ThomasWilkinson*'],\n",
       "  ['ThomasMorley', 'J.W.'],\n",
       "  ['ThomasMorley', 'J.M.[fromPlymouth]*'],\n",
       "  ['UNKNOWN', 'J.M.[ofBiggleswade]*'],\n",
       "  ['UNKNOWN', 'J.M.[ofBiggleswade]*'],\n",
       "  ['Gomphos', 'UNKNOWN'],\n",
       "  ['ThomasMorley', 'J.M.[fromPlymouth]*'],\n",
       "  ['T.Morley', 'T.J.L.'],\n",
       "  ['T.J.L.', 'J.W.']],\n",
       " [['SeptimusTebay', 'SeptimusTebay'],\n",
       "  ['SeptimusTebay', 'SeptimusTebay'],\n",
       "  ['SeptimusTebay', 'ThomasWilkinson'],\n",
       "  ['ThomasWilkinson', 'T.Wilkinson*'],\n",
       "  ['ThomasWilkinson', 'J.S.*'],\n",
       "  ['ThomasWilkinson', 'J.S.*'],\n",
       "  ['SeptimusTebay', 'ThomasWilkinson'],\n",
       "  ['ThomasWilkinson', 'T.Wilkinson*'],\n",
       "  ['ThomasWilkinson', 'J.S.*'],\n",
       "  ['ThomasWilkinson', 'J.S.*'],\n",
       "  ['ThomasWilkinson', 'ThomasWilkinson'],\n",
       "  ['ThomasWilkinson', 'ThomasWilkinson'],\n",
       "  ['ThomasWilkinson', 'ThomasWilkinson'],\n",
       "  ['ThomasWilkinson', 'ThomasWilkinson'],\n",
       "  ['ThomasWilkinson', 'ThomasWilkinson'],\n",
       "  ['Philo-Mathematicus', 'ThomasWilkinson'],\n",
       "  ['ThomasWilkinson', 'SeptimusTebay*'],\n",
       "  ['Geometricus', 'ThomasWilkinson'],\n",
       "  ['Geometricus', 'ThomasWilkinson'],\n",
       "  ['Theta', 'ThomasWilkinson'],\n",
       "  ['Theta', 'ThomasWilkinson'],\n",
       "  ['Theta', 'ThomasWilkinson'],\n",
       "  ['ThomasWilkinson', 'J.M.[ofBiggleswade]'],\n",
       "  ['Philo-Mathematicus', 'ThomasWilkinson'],\n",
       "  ['ThomasWilkinson', 'SeptimusTebay*'],\n",
       "  ['Geometricus', 'ThomasWilkinson'],\n",
       "  ['Geometricus', 'ThomasWilkinson'],\n",
       "  ['Geometricus', 'Geometricus'],\n",
       "  ['Geometricus', 'Geometricus'],\n",
       "  ['Theta', 'ThomasWilkinson'],\n",
       "  ['Theta', 'ThomasWilkinson'],\n",
       "  ['Theta', 'ThomasWilkinson'],\n",
       "  ['ThomasWilkinson', 'J.M.[ofBiggleswade]']],\n",
       " [['AnEsteemedCorrespondent', 'J.M.*'],\n",
       "  ['AnEsteemedCorrespondent', 'Digamma*'],\n",
       "  ['AnEsteemedCorrespondent', 'ThomasCranstoun*'],\n",
       "  ['AnEsteemedCorrespondent', 'J.M.*'],\n",
       "  ['AnEsteemedCorrespondent', 'Digamma*'],\n",
       "  ['AnEsteemedCorrespondent', 'ThomasCranstoun*'],\n",
       "  ['AnEsteemedCorrespondent', 'JohnGiblin*'],\n",
       "  ['AnEsteemedCorrespondent', 'J.Alsop'],\n",
       "  ['AnEsteemedCorrespondent', 'JohnGiblin*'],\n",
       "  ['AnEsteemedCorrespondent', 'J.Alsop']]]"
      ]
     },
     "execution_count": 39,
     "metadata": {},
     "output_type": "execute_result"
    }
   ],
   "source": [
    "#we have \"colorList\" and \"nodeList\" which are the remaining edges and the nodes respectively.\n",
    "#It would be nice if we could color the edges now!\n",
    "edgeList = []    #to correspond with nodeList 1 to 1 with indices\n",
    "i = 0\n",
    "comm = number_connected_components(D)\n",
    " \n",
    "for x in nodeList:           #x represents list of nodes in each component\n",
    "    edgeList.append([])\n",
    "    for y in x:              #y is an author\n",
    "        for z in x:          #z is an author\n",
    "            for c in colorList:\n",
    "                if (y == c[0] and z == c[1]) or (y == c[1] and z == c[0]):\n",
    "                    edgeList[i].append(c)\n",
    "    i+=1\n",
    "edgeList          "
   ]
  },
  {
   "cell_type": "code",
   "execution_count": 40,
   "metadata": {},
   "outputs": [],
   "source": [
    "#RESCALE\n",
    "D = nx.Graph()\n",
    "D.add_edges_from(fixedSolver)\n",
    "\n",
    "#width, length\n",
    "plt.figure(figsize=(20,20))\n",
    "plt.axis('off')\n",
    "\n",
    "# generate the layout and place nodes and edges\n",
    "layout = nx.circular_layout(D, scale=3)\n",
    "\n",
    "# plot nodes, labels, and edges with options\n",
    "nx.draw_networkx_nodes(D,pos=layout,\n",
    "                       nodelist=nodeList[0],\n",
    "                       node_color='red',\n",
    "                       node_size=500,\n",
    "                   alpha=0.8)\n",
    "nx.draw_networkx_nodes(D,pos=layout,\n",
    "                       nodelist=nodeList[1],\n",
    "                       node_color='purple',\n",
    "                       node_size=500,\n",
    "                   alpha=0.8)\n",
    "nx.draw_networkx_nodes(D,pos=layout,\n",
    "                       nodelist=nodeList[2],\n",
    "                       node_color='blue',\n",
    "                       node_size=500,\n",
    "                   alpha=0.8)\n",
    "nx.draw_networkx_edges(D, pos=layout, width=3, style='dotted',\n",
    "                       edge_color='orange')\n",
    "nx.draw_networkx_edges(D,pos=layout,\n",
    "                       edgelist=edgeList[0],\n",
    "                       width=4,alpha=0.5,edge_color='red')\n",
    "nx.draw_networkx_edges(D,pos=layout,\n",
    "                       edgelist=edgeList[1],\n",
    "                       width=4,alpha=0.5,edge_color='purple')\n",
    "nx.draw_networkx_edges(D,pos=layout,\n",
    "                       edgelist=edgeList[2],\n",
    "                       width=4,alpha=0.5,edge_color='blue')\n",
    "nx.draw_networkx_labels(D, pos=layout, font_size=14)\n",
    "\n",
    "#plt.show()\n",
    "plt.savefig(\"week7betweenness2.png\", format=\"PNG\")"
   ]
  },
  {
   "cell_type": "code",
   "execution_count": null,
   "metadata": {
    "collapsed": true
   },
   "outputs": [],
   "source": []
  }
 ],
 "metadata": {
  "kernelspec": {
   "display_name": "Python 3",
   "language": "python",
   "name": "python3"
  },
  "language_info": {
   "codemirror_mode": {
    "name": "ipython",
    "version": 3
   },
   "file_extension": ".py",
   "mimetype": "text/x-python",
   "name": "python",
   "nbconvert_exporter": "python",
   "pygments_lexer": "ipython3",
   "version": "3.6.3"
  }
 },
 "nbformat": 4,
 "nbformat_minor": 2
}
