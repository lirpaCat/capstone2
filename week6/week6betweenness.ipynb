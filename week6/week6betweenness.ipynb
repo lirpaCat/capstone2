{
 "cells": [
  {
   "cell_type": "markdown",
   "metadata": {},
   "source": [
    "<b>Betweenness Centrality for Removing Nodes</b>\n",
    "\n",
    "This notebook is for reviewing how to find the betweenness centrality for nodes and finding how to remove individual nodes from graphs, and how that affects the set."
   ]
  },
  {
   "cell_type": "code",
   "execution_count": 5,
   "metadata": {
    "collapsed": true
   },
   "outputs": [],
   "source": [
    "import csv\n",
    "\n",
    "import numpy as np\n",
    "import networkx as nx \n",
    "import pandas as pd"
   ]
  },
  {
   "cell_type": "code",
   "execution_count": 2,
   "metadata": {},
   "outputs": [
    {
     "name": "stdout",
     "output_type": "stream",
     "text": [
      "-13\t1\t12/01/48\tAn Esteemed Correspondent\tJ. Alsop ;Digamma *;Thomas Cranstoun *;John Giblin *;J.M. *\t1;\tJan-49;\txx;xx\t41;\r\n",
      "-12\t1\t01/01/49\tT. Morley\tUnknown ;T.J.L. \t1;\tFeb-49;Feb-49\txx;xx\t9;\r\n",
      "-11\t1\t02/01/49\tT.J.L. \tJ.W. \t1\t03/01/49\txx\t41\r\n",
      "-10\t1\t02/01/49\tEnquirer\tT. Morley \t1\t03/01/49\txx\t22\r\n",
      "-9\t1\t03/01/49\tThomas Morley\tJ.W. \t1\t04/01/49\txx\t22\r\n",
      "-8\t1\t04/01/49\tThomas Morley\tUNKNOWN;UNKNOWN\t1;1\tMay-49;Jun-49\txx;xx\t41;\r\n",
      "-7\t1\t04/01/49\tCollegian\tJ.W. \t1\t05/01/49\txx\t22\r\n",
      "-6\t1\t05/01/49\tGomphos\t\t\t\t\t3\r\n",
      "-5\t1\t05/01/49\tS.A.G.\t\t\t\t\t74\r\n",
      "-4\t1\t06/01/49\tGeometricus\t UNKNOWN\t1\t07/01/49\txx\t47\r\n"
     ]
    }
   ],
   "source": [
    "#First set of usable data - from Logan Schmidt using James Tattersall's sheets (~1000 pts)\n",
    "!head one.csv"
   ]
  },
  {
   "cell_type": "code",
   "execution_count": 3,
   "metadata": {
    "collapsed": true
   },
   "outputs": [],
   "source": [
    "#Select some data to work with for this session\n",
    "\n",
    "#first create list using all columns\n",
    "allData = []\n",
    "with open('one.csv', 'r') as f:\n",
    "    filereader = csv.reader(f, delimiter=\"\\t\", quotechar='\"')\n",
    "    #next(filereader) # skips header row, we don't want to skip since we don't have a header\n",
    "    for row in filereader:\n",
    "            allData.append(row)\n",
    "            \n",
    "            \n",
    "#for this practice, lets keep seperate some data by dates and we can compare them!\n",
    "#All the interactions during the 1840's using a new bit of code\n",
    "forties = []\n",
    "edge = []\n",
    "i=0\n",
    "for x in allData:\n",
    "    date=x[2].split(\"/\")\n",
    "    if len(date)==3:\n",
    "        if date[2].startswith('4'): #This helps single out decades instead of specific years\n",
    "        #if date[2]==\"49\":\n",
    "            edge.append([x[3],x[4], x[2]])\n",
    "            forties.append(edge[i])\n",
    "            i=i+1\n",
    "            \n",
    "#fix the solver column by seperating out responders, whitespace, and formatting unknowns\n",
    "fixedSolver = []\n",
    "edge = []\n",
    "i=0\n",
    "\n",
    "unknown = {\"\", \"Unknown\", \"unknown\"}\n",
    "for x in forties:\n",
    "    if \";\" in x[1]:\n",
    "        solvers = x[1].split(\";\")\n",
    "        for y in solvers:\n",
    "            one=x[0].replace(' ', '')\n",
    "            two=y.replace(' ', '')\n",
    "            if(one in unknown):\n",
    "                one=\"UNKNOWN\"\n",
    "            if(two in unknown):\n",
    "                two=\"UNKNOWN\"\n",
    "            fixedSolver.append([one,two])\n",
    "    else:\n",
    "        one=x[0].replace(' ', '')\n",
    "        two=x[1].replace(' ', '')\n",
    "        if(one in unknown):\n",
    "            one=\"UNKNOWN\"\n",
    "        if(two in unknown):\n",
    "            two=\"UNKNOWN\"\n",
    "        fixedSolver.append([one,two])\n",
    "    #i=i+1"
   ]
  },
  {
   "cell_type": "code",
   "execution_count": 4,
   "metadata": {},
   "outputs": [
    {
     "data": {
      "text/plain": [
       "[['AnEsteemedCorrespondent', 'J.Alsop'],\n",
       " ['AnEsteemedCorrespondent', 'Digamma*'],\n",
       " ['AnEsteemedCorrespondent', 'ThomasCranstoun*'],\n",
       " ['AnEsteemedCorrespondent', 'JohnGiblin*'],\n",
       " ['AnEsteemedCorrespondent', 'J.M.*'],\n",
       " ['T.Morley', 'UNKNOWN'],\n",
       " ['T.Morley', 'T.J.L.'],\n",
       " ['T.J.L.', 'J.W.'],\n",
       " ['Enquirer', 'T.Morley'],\n",
       " ['ThomasMorley', 'J.W.'],\n",
       " ['ThomasMorley', 'UNKNOWN'],\n",
       " ['ThomasMorley', 'UNKNOWN'],\n",
       " ['Collegian', 'J.W.'],\n",
       " ['Gomphos', 'UNKNOWN'],\n",
       " ['S.A.G.', 'UNKNOWN'],\n",
       " ['Geometricus', 'UNKNOWN'],\n",
       " ['UNKNOWN', 'J.W.'],\n",
       " ['Geometricus', 'UNKNOWN'],\n",
       " ['J.W.', 'UNKNOWN'],\n",
       " ['Geometricus', 'ThomasWilkinson'],\n",
       " ['Philo-Mathematicus', 'ThomasWilkinson'],\n",
       " ['UNKNOWN', 'UNKNOWN'],\n",
       " ['Theta', 'ThomasWilkinson'],\n",
       " ['Theta', 'ThomasWilkinson'],\n",
       " ['Theta', 'ThomasWilkinson'],\n",
       " ['ThomasWilkinson', 'ThomasWilkinson'],\n",
       " ['ThomasWilkinson', 'ThomasWilkinson'],\n",
       " ['Geometricus', 'ThomasWilkinson'],\n",
       " ['UNKNOWN', 'J.S.'],\n",
       " ['UNKNOWN', 'ThomasWilkinson*'],\n",
       " ['UNKNOWN', 'J.M.[ofBiggleswade]*'],\n",
       " ['UNKNOWN', 'J.S.'],\n",
       " ['UNKNOWN', 'ThomasWilkinson*'],\n",
       " ['UNKNOWN', 'J.M.[ofBiggleswade]*'],\n",
       " ['ThomasMorley', 'J.S.'],\n",
       " ['ThomasMorley', 'ThomasWilkinson*'],\n",
       " ['ThomasMorley', 'J.M.[fromPlymouth]*'],\n",
       " ['ThomasWilkinson', 'ThomasWilkinson'],\n",
       " ['ThomasWilkinson', 'ThomasWilkinson'],\n",
       " ['ThomasWilkinson', 'J.M.[ofBiggleswade]'],\n",
       " ['ThomasWilkinson', 'ThomasWilkinson*'],\n",
       " ['SeptimusTebay', 'SeptimusTebay'],\n",
       " ['Geometricus', 'Geometricus'],\n",
       " ['ThomasWilkinson', 'J.W.'],\n",
       " ['ThomasWilkinson', 'J.S.*'],\n",
       " ['ThomasWilkinson', 'T.Wilkinson*'],\n",
       " ['ThomasWilkinson', 'ThomasWilkinson'],\n",
       " ['ThomasWilkinson', 'J.S.*'],\n",
       " ['ThomasWilkinson', 'SeptimusTebay*'],\n",
       " ['SeptimusTebay', 'ThomasWilkinson'],\n",
       " ['SeptimusTebay', 'SeptimusTebay'],\n",
       " ['Geometricus', 'Geometricus']]"
      ]
     },
     "execution_count": 4,
     "metadata": {},
     "output_type": "execute_result"
    }
   ],
   "source": [
    "fixedSolver"
   ]
  },
  {
   "cell_type": "code",
   "execution_count": 17,
   "metadata": {},
   "outputs": [
    {
     "name": "stdout",
     "output_type": "stream",
     "text": [
      "Name: \n",
      "Type: Graph\n",
      "Number of nodes: 28\n",
      "Number of edges: 36\n",
      "Average degree:   2.5714\n"
     ]
    },
    {
     "data": {
      "text/plain": [
       "[('J.Alsop', 0.0),\n",
       " ('Digamma*', 0.0),\n",
       " ('ThomasCranstoun*', 0.0),\n",
       " ('JohnGiblin*', 0.0),\n",
       " ('J.M.*', 0.0),\n",
       " ('Enquirer', 0.0),\n",
       " ('Collegian', 0.0),\n",
       " ('Gomphos', 0.0),\n",
       " ('S.A.G.', 0.0),\n",
       " ('Philo-Mathematicus', 0.0),\n",
       " ('Theta', 0.0),\n",
       " ('J.S.', 0.0),\n",
       " ('J.M.[ofBiggleswade]*', 0.0),\n",
       " ('J.M.[fromPlymouth]*', 0.0),\n",
       " ('J.M.[ofBiggleswade]', 0.0),\n",
       " ('SeptimusTebay', 0.0),\n",
       " ('J.S.*', 0.0),\n",
       " ('T.Wilkinson*', 0.0),\n",
       " ('SeptimusTebay*', 0.0),\n",
       " ('T.J.L.', 0.017094017094017096),\n",
       " ('AnEsteemedCorrespondent', 0.02849002849002849),\n",
       " ('Geometricus', 0.046343779677113),\n",
       " ('T.Morley', 0.06528964862298196),\n",
       " ('ThomasWilkinson*', 0.07369420702754037),\n",
       " ('ThomasMorley', 0.07393162393162393),\n",
       " ('J.W.', 0.18219373219373222),\n",
       " ('UNKNOWN', 0.26866096866096856),\n",
       " ('ThomasWilkinson', 0.3468660968660969)]"
      ]
     },
     "execution_count": 17,
     "metadata": {},
     "output_type": "execute_result"
    }
   ],
   "source": [
    "#create graph using networkx\n",
    "solverGraph = nx.from_edgelist(fixedSolver)\n",
    "print(nx.info(solverGraph))\n",
    "\n",
    "betweennessSG = nx.betweenness_centrality(solverGraph)\n",
    "betweennessSG\n",
    "\n",
    "#sort dictionary by betweenness centralities\n",
    "import operator\n",
    "sortedSG = sorted(betweennessSG.items(), key=operator.itemgetter(1))\n",
    "sortedSG\n",
    "\n",
    "#Find that Thomas Wilkinson would be the first to be removed\n",
    "#That node needs to be removed and all references, then centrality run again"
   ]
  },
  {
   "cell_type": "code",
   "execution_count": 19,
   "metadata": {
    "collapsed": true
   },
   "outputs": [],
   "source": [
    "firstIteration = [];\n",
    "for edge in fixedSolver:\n",
    "    if edge[0]!=\"ThomasWilkinson\":\n",
    "        if edge[1]!=\"ThomasWilkinson\":\n",
    "            firstIteration.append(edge)"
   ]
  },
  {
   "cell_type": "code",
   "execution_count": 20,
   "metadata": {},
   "outputs": [
    {
     "data": {
      "text/plain": [
       "[['AnEsteemedCorrespondent', 'J.Alsop'],\n",
       " ['AnEsteemedCorrespondent', 'Digamma*'],\n",
       " ['AnEsteemedCorrespondent', 'ThomasCranstoun*'],\n",
       " ['AnEsteemedCorrespondent', 'JohnGiblin*'],\n",
       " ['AnEsteemedCorrespondent', 'J.M.*'],\n",
       " ['T.Morley', 'UNKNOWN'],\n",
       " ['T.Morley', 'T.J.L.'],\n",
       " ['T.J.L.', 'J.W.'],\n",
       " ['Enquirer', 'T.Morley'],\n",
       " ['ThomasMorley', 'J.W.'],\n",
       " ['ThomasMorley', 'UNKNOWN'],\n",
       " ['ThomasMorley', 'UNKNOWN'],\n",
       " ['Collegian', 'J.W.'],\n",
       " ['Gomphos', 'UNKNOWN'],\n",
       " ['S.A.G.', 'UNKNOWN'],\n",
       " ['Geometricus', 'UNKNOWN'],\n",
       " ['UNKNOWN', 'J.W.'],\n",
       " ['Geometricus', 'UNKNOWN'],\n",
       " ['J.W.', 'UNKNOWN'],\n",
       " ['UNKNOWN', 'UNKNOWN'],\n",
       " ['UNKNOWN', 'J.S.'],\n",
       " ['UNKNOWN', 'ThomasWilkinson*'],\n",
       " ['UNKNOWN', 'J.M.[ofBiggleswade]*'],\n",
       " ['UNKNOWN', 'J.S.'],\n",
       " ['UNKNOWN', 'ThomasWilkinson*'],\n",
       " ['UNKNOWN', 'J.M.[ofBiggleswade]*'],\n",
       " ['ThomasMorley', 'J.S.'],\n",
       " ['ThomasMorley', 'ThomasWilkinson*'],\n",
       " ['ThomasMorley', 'J.M.[fromPlymouth]*'],\n",
       " ['SeptimusTebay', 'SeptimusTebay'],\n",
       " ['Geometricus', 'Geometricus'],\n",
       " ['SeptimusTebay', 'SeptimusTebay'],\n",
       " ['Geometricus', 'Geometricus']]"
      ]
     },
     "execution_count": 20,
     "metadata": {},
     "output_type": "execute_result"
    }
   ],
   "source": [
    "firstIteration\n"
   ]
  },
  {
   "cell_type": "code",
   "execution_count": 22,
   "metadata": {},
   "outputs": [
    {
     "name": "stdout",
     "output_type": "stream",
     "text": [
      "Name: \n",
      "Type: Graph\n",
      "Number of nodes: 21\n",
      "Number of edges: 25\n",
      "Average degree:   2.3810\n"
     ]
    },
    {
     "data": {
      "text/plain": [
       "[('J.Alsop', 0.0),\n",
       " ('Digamma*', 0.0),\n",
       " ('ThomasCranstoun*', 0.0),\n",
       " ('JohnGiblin*', 0.0),\n",
       " ('J.M.*', 0.0),\n",
       " ('Enquirer', 0.0),\n",
       " ('Collegian', 0.0),\n",
       " ('Gomphos', 0.0),\n",
       " ('S.A.G.', 0.0),\n",
       " ('Geometricus', 0.0),\n",
       " ('J.S.', 0.0),\n",
       " ('ThomasWilkinson*', 0.0),\n",
       " ('J.M.[ofBiggleswade]*', 0.0),\n",
       " ('J.M.[fromPlymouth]*', 0.0),\n",
       " ('SeptimusTebay', 0.0),\n",
       " ('T.J.L.', 0.010526315789473684),\n",
       " ('AnEsteemedCorrespondent', 0.05263157894736842),\n",
       " ('T.Morley', 0.07982456140350876),\n",
       " ('ThomasMorley', 0.07982456140350877),\n",
       " ('J.W.', 0.093859649122807),\n",
       " ('UNKNOWN', 0.29385964912280704)]"
      ]
     },
     "execution_count": 22,
     "metadata": {},
     "output_type": "execute_result"
    }
   ],
   "source": [
    "#create graph using networkx\n",
    "solverGraph1 = nx.from_edgelist(firstIteration)\n",
    "print(nx.info(solverGraph1))\n",
    "\n",
    "betweennessSG1 = nx.betweenness_centrality(solverGraph1)\n",
    "betweennessSG1\n",
    "\n",
    "#sort dictionary by betweenness centralities\n",
    "import operator\n",
    "sortedSG1 = sorted(betweennessSG1.items(), key=operator.itemgetter(1))\n",
    "sortedSG1\n",
    "\n",
    "#Since we removed Thomas Wilkinson, we also removed some others at the same time.\n",
    "#He had connections with some authors that others did not."
   ]
  },
  {
   "cell_type": "code",
   "execution_count": null,
   "metadata": {
    "collapsed": true
   },
   "outputs": [],
   "source": []
  }
 ],
 "metadata": {
  "kernelspec": {
   "display_name": "Python 3",
   "language": "python",
   "name": "python3"
  },
  "language_info": {
   "codemirror_mode": {
    "name": "ipython",
    "version": 3
   },
   "file_extension": ".py",
   "mimetype": "text/x-python",
   "name": "python",
   "nbconvert_exporter": "python",
   "pygments_lexer": "ipython3",
   "version": "3.6.3"
  }
 },
 "nbformat": 4,
 "nbformat_minor": 2
}
