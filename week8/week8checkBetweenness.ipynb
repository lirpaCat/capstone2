{
 "cells": [
  {
   "cell_type": "markdown",
   "metadata": {},
   "source": [
    "<b>Betweenness Centrality for Removing Nodes, part 3</b>\n",
    "\n",
    "This notebook is for reviewing how to find the betweenness centrality for nodes and finding how to remove individual nodes from graphs, and how that affects the set.\n",
    "\n",
    "Part 2 reviews removing edges versus nodes."
   ]
  },
  {
   "cell_type": "code",
   "execution_count": 59,
   "metadata": {},
   "outputs": [],
   "source": [
    "import csv\n",
    "\n",
    "import numpy as np\n",
    "import networkx as nx \n",
    "import pandas as pd\n",
    "import matplotlib.pyplot as plt"
   ]
  },
  {
   "cell_type": "code",
   "execution_count": 60,
   "metadata": {},
   "outputs": [],
   "source": [
    "#Select some data to work with for this session\n",
    "\n",
    "#first create list using all columns\n",
    "allData = []\n",
    "with open('one.csv', 'r') as f:\n",
    "    filereader = csv.reader(f, delimiter=\"\\t\", quotechar='\"')\n",
    "    #next(filereader) # skips header row, we don't want to skip since we don't have a header\n",
    "    for row in filereader:\n",
    "            allData.append(row)\n",
    "            \n",
    "            \n",
    "#for this practice, lets keep seperate some data by dates and we can compare them!\n",
    "#All the interactions during the 1840's using a new bit of code\n",
    "forties = []\n",
    "edge = []\n",
    "i=0\n",
    "for x in allData:\n",
    "    date=x[2].split(\"/\")\n",
    "    if len(date)==3:\n",
    "        if date[2].startswith('4'): #This helps single out decades instead of specific years\n",
    "        #if date[2]==\"49\":\n",
    "            edge.append([x[3],x[4], x[2]])\n",
    "            forties.append(edge[i])\n",
    "            i=i+1\n",
    "            \n",
    "#fix the solver column by seperating out responders, whitespace, and formatting unknowns\n",
    "fixedSolver = []\n",
    "edge = []\n",
    "i=0\n",
    "\n",
    "unknown = {\"\", \"Unknown\", \"unknown\"}\n",
    "for x in forties:\n",
    "    if \";\" in x[1]:\n",
    "        solvers = x[1].split(\";\")\n",
    "        for y in solvers:\n",
    "            one=x[0].replace(' ', '')\n",
    "            two=y.replace(' ', '')\n",
    "            if(one in unknown):\n",
    "                one=\"UNKNOWN\"\n",
    "            if(two in unknown):\n",
    "                two=\"UNKNOWN\"\n",
    "            fixedSolver.append([one,two])\n",
    "    else:\n",
    "        one=x[0].replace(' ', '')\n",
    "        two=x[1].replace(' ', '')\n",
    "        if(one in unknown):\n",
    "            one=\"UNKNOWN\"\n",
    "        if(two in unknown):\n",
    "            two=\"UNKNOWN\"\n",
    "        fixedSolver.append([one,two])\n",
    "    #i=i+1"
   ]
  },
  {
   "cell_type": "markdown",
   "metadata": {},
   "source": [
    "<b>Begin trying to select edges to remove</b>"
   ]
  },
  {
   "cell_type": "code",
   "execution_count": 61,
   "metadata": {},
   "outputs": [],
   "source": [
    "#find the edges with the highest centrality\n",
    "from networkx import edge_betweenness_centrality\n",
    "import operator\n",
    "def my_central_edge(G):\n",
    "    centrality = edge_betweenness_centrality(G)\n",
    "    sortedCent = sorted(centrality.items(), key=operator.itemgetter(1), reverse=True)\n",
    "    edge = sortedCent[0]\n",
    "    return edge[0]"
   ]
  },
  {
   "cell_type": "code",
   "execution_count": 56,
   "metadata": {},
   "outputs": [],
   "source": [
    "#make new communities by removing one edge at a time\n",
    "from networkx import number_connected_components\n",
    "def make_community(edgeList, iterations):\n",
    "    \n",
    "    tempList = list(edgeList)\n",
    "    graph = nx.from_edgelist(edgeList)\n",
    "    tempG = nx.from_edgelist(tempList)\n",
    "    \n",
    "    communities = number_connected_components(graph)\n",
    "    compCommunities = number_connected_components(tempG)\n",
    "\n",
    "    while compCommunities < communities + iterations:\n",
    "        edge = my_central_edge(tempG)\n",
    "        for x in tempList:\n",
    "            if (x[0] == edge[0] and x[1] == edge[1]) or (x[0] == edge[1] and x[1] == edge[0]):\n",
    "                print(x)\n",
    "                tempList.remove(x)\n",
    "            tempG = nx.from_edgelist(tempList)\n",
    "            compCommunities = number_connected_components(tempG)\n",
    "    #return tempList"
   ]
  },
  {
   "cell_type": "code",
   "execution_count": 58,
   "metadata": {},
   "outputs": [
    {
     "name": "stdout",
     "output_type": "stream",
     "text": [
      "['ThomasWilkinson', 'J.W.']\n",
      "['ThomasWilkinson', 'ThomasWilkinson*']\n",
      "['Geometricus', 'UNKNOWN']\n",
      "['Geometricus', 'UNKNOWN']\n"
     ]
    },
    {
     "ename": "TypeError",
     "evalue": "'NoneType' object is not iterable",
     "output_type": "error",
     "traceback": [
      "\u001b[0;31m---------------------------------------------------------------------------\u001b[0m",
      "\u001b[0;31mTypeError\u001b[0m                                 Traceback (most recent call last)",
      "\u001b[0;32m<ipython-input-58-a5d52ae9cc73>\u001b[0m in \u001b[0;36m<module>\u001b[0;34m()\u001b[0m\n\u001b[1;32m      3\u001b[0m \u001b[0;31m#colormap is a \"generator of sets\", contains dictionaries in this case\u001b[0m\u001b[0;34m\u001b[0m\u001b[0;34m\u001b[0m\u001b[0m\n\u001b[1;32m      4\u001b[0m \u001b[0;32mfrom\u001b[0m \u001b[0mnetworkx\u001b[0m \u001b[0;32mimport\u001b[0m \u001b[0mconnected_components\u001b[0m\u001b[0;34m\u001b[0m\u001b[0m\n\u001b[0;32m----> 5\u001b[0;31m \u001b[0mcolorMap\u001b[0m \u001b[0;34m=\u001b[0m \u001b[0mnx\u001b[0m\u001b[0;34m.\u001b[0m\u001b[0mfrom_edgelist\u001b[0m\u001b[0;34m(\u001b[0m\u001b[0mcolorList\u001b[0m\u001b[0;34m)\u001b[0m\u001b[0;34m\u001b[0m\u001b[0m\n\u001b[0m\u001b[1;32m      6\u001b[0m \u001b[0;31m#add each dictionary to a list so they're easier to pick from\u001b[0m\u001b[0;34m\u001b[0m\u001b[0;34m\u001b[0m\u001b[0m\n\u001b[1;32m      7\u001b[0m \u001b[0mnodes\u001b[0m \u001b[0;34m=\u001b[0m \u001b[0;34m[\u001b[0m\u001b[0;34m]\u001b[0m\u001b[0;34m\u001b[0m\u001b[0m\n",
      "\u001b[0;32m~/anaconda3/lib/python3.6/site-packages/networkx/convert.py\u001b[0m in \u001b[0;36mfrom_edgelist\u001b[0;34m(edgelist, create_using)\u001b[0m\n\u001b[1;32m    401\u001b[0m     \"\"\"\n\u001b[1;32m    402\u001b[0m     \u001b[0mG\u001b[0m \u001b[0;34m=\u001b[0m \u001b[0m_prep_create_using\u001b[0m\u001b[0;34m(\u001b[0m\u001b[0mcreate_using\u001b[0m\u001b[0;34m)\u001b[0m\u001b[0;34m\u001b[0m\u001b[0m\n\u001b[0;32m--> 403\u001b[0;31m     \u001b[0mG\u001b[0m\u001b[0;34m.\u001b[0m\u001b[0madd_edges_from\u001b[0m\u001b[0;34m(\u001b[0m\u001b[0medgelist\u001b[0m\u001b[0;34m)\u001b[0m\u001b[0;34m\u001b[0m\u001b[0m\n\u001b[0m\u001b[1;32m    404\u001b[0m     \u001b[0;32mreturn\u001b[0m \u001b[0mG\u001b[0m\u001b[0;34m\u001b[0m\u001b[0m\n",
      "\u001b[0;32m~/anaconda3/lib/python3.6/site-packages/networkx/classes/graph.py\u001b[0m in \u001b[0;36madd_edges_from\u001b[0;34m(self, ebunch_to_add, **attr)\u001b[0m\n\u001b[1;32m    923\u001b[0m         \u001b[0;34m>>\u001b[0m\u001b[0;34m>\u001b[0m \u001b[0mG\u001b[0m\u001b[0;34m.\u001b[0m\u001b[0madd_edges_from\u001b[0m\u001b[0;34m(\u001b[0m\u001b[0;34m[\u001b[0m\u001b[0;34m(\u001b[0m\u001b[0;36m3\u001b[0m\u001b[0;34m,\u001b[0m \u001b[0;36m4\u001b[0m\u001b[0;34m)\u001b[0m\u001b[0;34m,\u001b[0m \u001b[0;34m(\u001b[0m\u001b[0;36m1\u001b[0m\u001b[0;34m,\u001b[0m \u001b[0;36m4\u001b[0m\u001b[0;34m)\u001b[0m\u001b[0;34m]\u001b[0m\u001b[0;34m,\u001b[0m \u001b[0mlabel\u001b[0m\u001b[0;34m=\u001b[0m\u001b[0;34m'WN2898'\u001b[0m\u001b[0;34m)\u001b[0m\u001b[0;34m\u001b[0m\u001b[0m\n\u001b[1;32m    924\u001b[0m         \"\"\"\n\u001b[0;32m--> 925\u001b[0;31m         \u001b[0;32mfor\u001b[0m \u001b[0me\u001b[0m \u001b[0;32min\u001b[0m \u001b[0mebunch_to_add\u001b[0m\u001b[0;34m:\u001b[0m\u001b[0;34m\u001b[0m\u001b[0m\n\u001b[0m\u001b[1;32m    926\u001b[0m             \u001b[0mne\u001b[0m \u001b[0;34m=\u001b[0m \u001b[0mlen\u001b[0m\u001b[0;34m(\u001b[0m\u001b[0me\u001b[0m\u001b[0;34m)\u001b[0m\u001b[0;34m\u001b[0m\u001b[0m\n\u001b[1;32m    927\u001b[0m             \u001b[0;32mif\u001b[0m \u001b[0mne\u001b[0m \u001b[0;34m==\u001b[0m \u001b[0;36m3\u001b[0m\u001b[0;34m:\u001b[0m\u001b[0;34m\u001b[0m\u001b[0m\n",
      "\u001b[0;31mTypeError\u001b[0m: 'NoneType' object is not iterable"
     ]
    }
   ],
   "source": [
    "#tested previously, now to start upping the interations to see how it handles equal centralities\n",
    "colorList = make_community(fixedSolver, 1)\n",
    "#colormap is a \"generator of sets\", contains dictionaries in this case\n",
    "from networkx import connected_components\n",
    "colorMap = nx.from_edgelist(colorList)\n",
    "#add each dictionary to a list so they're easier to pick from\n",
    "nodes = []\n",
    "[nodes.append(c) for c in sorted(nx.connected_components(colorMap), key=len, reverse=True)]\n",
    "#node create a list of lists with nodes in each\n",
    "#final list will have lists containing nodes in a single component\n",
    "nodeList = []\n",
    "i=0;\n",
    "for x in nodes:\n",
    "    nodeList.append([])\n",
    "    for y in x:\n",
    "        nodeList[i].append(y)\n",
    "    i+=1\n",
    "nodeList"
   ]
  },
  {
   "cell_type": "code",
   "execution_count": null,
   "metadata": {},
   "outputs": [],
   "source": [
    "graph = nx.from_edgelist(fixedSolver)\n",
    "centrality = edge_betweenness_centrality(G)\n",
    "sortedCent = sorted(centrality.items(), key=operator.itemgetter(1), reverse=True)"
   ]
  }
 ],
 "metadata": {
  "kernelspec": {
   "display_name": "Python 3",
   "language": "python",
   "name": "python3"
  },
  "language_info": {
   "codemirror_mode": {
    "name": "ipython",
    "version": 3
   },
   "file_extension": ".py",
   "mimetype": "text/x-python",
   "name": "python",
   "nbconvert_exporter": "python",
   "pygments_lexer": "ipython3",
   "version": "3.6.4"
  }
 },
 "nbformat": 4,
 "nbformat_minor": 2
}
