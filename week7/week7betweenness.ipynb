{
 "cells": [
  {
   "cell_type": "markdown",
   "metadata": {},
   "source": [
    "<b>Betweenness Centrality for Removing Nodes, part 2</b>\n",
    "\n",
    "This notebook is for reviewing how to find the betweenness centrality for nodes and finding how to remove individual nodes from graphs, and how that affects the set.\n",
    "\n",
    "Part 2 reviews removing edges versus nodes."
   ]
  },
  {
   "cell_type": "code",
   "execution_count": 187,
   "metadata": {
    "collapsed": true
   },
   "outputs": [],
   "source": [
    "import csv\n",
    "\n",
    "import numpy as np\n",
    "import networkx as nx \n",
    "import pandas as pd"
   ]
  },
  {
   "cell_type": "code",
   "execution_count": 188,
   "metadata": {},
   "outputs": [
    {
     "name": "stdout",
     "output_type": "stream",
     "text": [
      "-13\t1\t12/01/48\tAn Esteemed Correspondent\tJ. Alsop ;Digamma *;Thomas Cranstoun *;John Giblin *;J.M. *\t1;\tJan-49;\txx;xx\t41;\r\n",
      "-12\t1\t01/01/49\tT. Morley\tUnknown ;T.J.L. \t1;\tFeb-49;Feb-49\txx;xx\t9;\r\n",
      "-11\t1\t02/01/49\tT.J.L. \tJ.W. \t1\t03/01/49\txx\t41\r\n",
      "-10\t1\t02/01/49\tEnquirer\tT. Morley \t1\t03/01/49\txx\t22\r\n",
      "-9\t1\t03/01/49\tThomas Morley\tJ.W. \t1\t04/01/49\txx\t22\r\n",
      "-8\t1\t04/01/49\tThomas Morley\tUNKNOWN;UNKNOWN\t1;1\tMay-49;Jun-49\txx;xx\t41;\r\n",
      "-7\t1\t04/01/49\tCollegian\tJ.W. \t1\t05/01/49\txx\t22\r\n",
      "-6\t1\t05/01/49\tGomphos\t\t\t\t\t3\r\n",
      "-5\t1\t05/01/49\tS.A.G.\t\t\t\t\t74\r\n",
      "-4\t1\t06/01/49\tGeometricus\t UNKNOWN\t1\t07/01/49\txx\t47\r\n"
     ]
    }
   ],
   "source": [
    "#First set of usable data - from Logan Schmidt using James Tattersall's sheets (~1000 pts)\n",
    "!head one.csv"
   ]
  },
  {
   "cell_type": "code",
   "execution_count": 189,
   "metadata": {
    "collapsed": true
   },
   "outputs": [],
   "source": [
    "#Select some data to work with for this session\n",
    "\n",
    "#first create list using all columns\n",
    "allData = []\n",
    "with open('one.csv', 'r') as f:\n",
    "    filereader = csv.reader(f, delimiter=\"\\t\", quotechar='\"')\n",
    "    #next(filereader) # skips header row, we don't want to skip since we don't have a header\n",
    "    for row in filereader:\n",
    "            allData.append(row)\n",
    "            \n",
    "            \n",
    "#for this practice, lets keep seperate some data by dates and we can compare them!\n",
    "#All the interactions during the 1840's using a new bit of code\n",
    "forties = []\n",
    "edge = []\n",
    "i=0\n",
    "for x in allData:\n",
    "    date=x[2].split(\"/\")\n",
    "    if len(date)==3:\n",
    "        if date[2].startswith('4'): #This helps single out decades instead of specific years\n",
    "        #if date[2]==\"49\":\n",
    "            edge.append([x[3],x[4], x[2]])\n",
    "            forties.append(edge[i])\n",
    "            i=i+1\n",
    "            \n",
    "#fix the solver column by seperating out responders, whitespace, and formatting unknowns\n",
    "fixedSolver = []\n",
    "edge = []\n",
    "i=0\n",
    "\n",
    "unknown = {\"\", \"Unknown\", \"unknown\"}\n",
    "for x in forties:\n",
    "    if \";\" in x[1]:\n",
    "        solvers = x[1].split(\";\")\n",
    "        for y in solvers:\n",
    "            one=x[0].replace(' ', '')\n",
    "            two=y.replace(' ', '')\n",
    "            if(one in unknown):\n",
    "                one=\"UNKNOWN\"\n",
    "            if(two in unknown):\n",
    "                two=\"UNKNOWN\"\n",
    "            fixedSolver.append([one,two])\n",
    "    else:\n",
    "        one=x[0].replace(' ', '')\n",
    "        two=x[1].replace(' ', '')\n",
    "        if(one in unknown):\n",
    "            one=\"UNKNOWN\"\n",
    "        if(two in unknown):\n",
    "            two=\"UNKNOWN\"\n",
    "        fixedSolver.append([one,two])\n",
    "    #i=i+1"
   ]
  },
  {
   "cell_type": "code",
   "execution_count": 190,
   "metadata": {},
   "outputs": [
    {
     "data": {
      "text/plain": [
       "[['AnEsteemedCorrespondent', 'J.Alsop'],\n",
       " ['AnEsteemedCorrespondent', 'Digamma*'],\n",
       " ['AnEsteemedCorrespondent', 'ThomasCranstoun*'],\n",
       " ['AnEsteemedCorrespondent', 'JohnGiblin*'],\n",
       " ['AnEsteemedCorrespondent', 'J.M.*'],\n",
       " ['T.Morley', 'UNKNOWN'],\n",
       " ['T.Morley', 'T.J.L.'],\n",
       " ['T.J.L.', 'J.W.'],\n",
       " ['Enquirer', 'T.Morley'],\n",
       " ['ThomasMorley', 'J.W.'],\n",
       " ['ThomasMorley', 'UNKNOWN'],\n",
       " ['ThomasMorley', 'UNKNOWN'],\n",
       " ['Collegian', 'J.W.'],\n",
       " ['Gomphos', 'UNKNOWN'],\n",
       " ['S.A.G.', 'UNKNOWN'],\n",
       " ['Geometricus', 'UNKNOWN'],\n",
       " ['UNKNOWN', 'J.W.'],\n",
       " ['Geometricus', 'UNKNOWN'],\n",
       " ['J.W.', 'UNKNOWN'],\n",
       " ['Geometricus', 'ThomasWilkinson'],\n",
       " ['Philo-Mathematicus', 'ThomasWilkinson'],\n",
       " ['UNKNOWN', 'UNKNOWN'],\n",
       " ['Theta', 'ThomasWilkinson'],\n",
       " ['Theta', 'ThomasWilkinson'],\n",
       " ['Theta', 'ThomasWilkinson'],\n",
       " ['ThomasWilkinson', 'ThomasWilkinson'],\n",
       " ['ThomasWilkinson', 'ThomasWilkinson'],\n",
       " ['Geometricus', 'ThomasWilkinson'],\n",
       " ['UNKNOWN', 'J.S.'],\n",
       " ['UNKNOWN', 'ThomasWilkinson*'],\n",
       " ['UNKNOWN', 'J.M.[ofBiggleswade]*'],\n",
       " ['UNKNOWN', 'J.S.'],\n",
       " ['UNKNOWN', 'ThomasWilkinson*'],\n",
       " ['UNKNOWN', 'J.M.[ofBiggleswade]*'],\n",
       " ['ThomasMorley', 'J.S.'],\n",
       " ['ThomasMorley', 'ThomasWilkinson*'],\n",
       " ['ThomasMorley', 'J.M.[fromPlymouth]*'],\n",
       " ['ThomasWilkinson', 'ThomasWilkinson'],\n",
       " ['ThomasWilkinson', 'ThomasWilkinson'],\n",
       " ['ThomasWilkinson', 'J.M.[ofBiggleswade]'],\n",
       " ['ThomasWilkinson', 'ThomasWilkinson*'],\n",
       " ['SeptimusTebay', 'SeptimusTebay'],\n",
       " ['Geometricus', 'Geometricus'],\n",
       " ['ThomasWilkinson', 'J.W.'],\n",
       " ['ThomasWilkinson', 'J.S.*'],\n",
       " ['ThomasWilkinson', 'T.Wilkinson*'],\n",
       " ['ThomasWilkinson', 'ThomasWilkinson'],\n",
       " ['ThomasWilkinson', 'J.S.*'],\n",
       " ['ThomasWilkinson', 'SeptimusTebay*'],\n",
       " ['SeptimusTebay', 'ThomasWilkinson'],\n",
       " ['SeptimusTebay', 'SeptimusTebay'],\n",
       " ['Geometricus', 'Geometricus']]"
      ]
     },
     "execution_count": 190,
     "metadata": {},
     "output_type": "execute_result"
    }
   ],
   "source": [
    "fixedSolver"
   ]
  },
  {
   "cell_type": "code",
   "execution_count": 191,
   "metadata": {},
   "outputs": [
    {
     "name": "stdout",
     "output_type": "stream",
     "text": [
      "Name: \n",
      "Type: Graph\n",
      "Number of nodes: 28\n",
      "Number of edges: 36\n",
      "Average degree:   2.5714\n"
     ]
    },
    {
     "data": {
      "text/plain": [
       "[(('UNKNOWN', 'UNKNOWN'), 0.0),\n",
       " (('Geometricus', 'Geometricus'), 0.0),\n",
       " (('ThomasWilkinson', 'ThomasWilkinson'), 0.0),\n",
       " (('SeptimusTebay', 'SeptimusTebay'), 0.0),\n",
       " (('AnEsteemedCorrespondent', 'J.Alsop'), 0.013227513227513227),\n",
       " (('AnEsteemedCorrespondent', 'Digamma*'), 0.013227513227513227),\n",
       " (('AnEsteemedCorrespondent', 'ThomasCranstoun*'), 0.013227513227513227),\n",
       " (('AnEsteemedCorrespondent', 'JohnGiblin*'), 0.013227513227513227),\n",
       " (('AnEsteemedCorrespondent', 'J.M.*'), 0.013227513227513227),\n",
       " (('ThomasMorley', 'J.S.'), 0.018606701940035275),\n",
       " (('T.Morley', 'T.J.L.'), 0.028880070546737205),\n",
       " (('ThomasMorley', 'ThomasWilkinson*'), 0.03443562610229276),\n",
       " (('UNKNOWN', 'J.S.'), 0.036948853615520284),\n",
       " (('UNKNOWN', 'ThomasMorley'), 0.037037037037037035),\n",
       " (('J.W.', 'ThomasMorley'), 0.047222222222222235),\n",
       " (('T.Morley', 'Enquirer'), 0.05555555555555555),\n",
       " (('UNKNOWN', 'Gomphos'), 0.05555555555555555),\n",
       " (('UNKNOWN', 'S.A.G.'), 0.05555555555555555),\n",
       " (('UNKNOWN', 'J.M.[ofBiggleswade]*'), 0.05555555555555555),\n",
       " (('J.W.', 'Collegian'), 0.05555555555555555),\n",
       " (('ThomasMorley', 'J.M.[fromPlymouth]*'), 0.05555555555555555),\n",
       " (('ThomasWilkinson', 'Philo-Mathematicus'), 0.05555555555555555),\n",
       " (('ThomasWilkinson', 'Theta'), 0.05555555555555555),\n",
       " (('ThomasWilkinson', 'J.M.[ofBiggleswade]'), 0.05555555555555555),\n",
       " (('ThomasWilkinson', 'J.S.*'), 0.05555555555555555),\n",
       " (('ThomasWilkinson', 'T.Wilkinson*'), 0.05555555555555555),\n",
       " (('ThomasWilkinson', 'SeptimusTebay*'), 0.05555555555555555),\n",
       " (('ThomasWilkinson', 'SeptimusTebay'), 0.05555555555555555),\n",
       " (('T.J.L.', 'J.W.'), 0.058421516754850085),\n",
       " (('UNKNOWN', 'ThomasWilkinson*'), 0.06463844797178128),\n",
       " (('Geometricus', 'ThomasWilkinson'), 0.06904761904761902),\n",
       " (('UNKNOWN', 'Geometricus'), 0.0725749559082892),\n",
       " (('UNKNOWN', 'J.W.'), 0.08425925925925921),\n",
       " (('T.Morley', 'UNKNOWN'), 0.09237213403880071),\n",
       " (('ThomasWilkinson', 'ThomasWilkinson*'), 0.093342151675485),\n",
       " (('J.W.', 'ThomasWilkinson'), 0.14845679012345678)]"
      ]
     },
     "execution_count": 191,
     "metadata": {},
     "output_type": "execute_result"
    }
   ],
   "source": [
    "#create graph using networkx\n",
    "solverGraph = nx.from_edgelist(fixedSolver)\n",
    "print(nx.info(solverGraph))\n",
    "\n",
    "from networkx import edge_betweenness_centrality, number_connected_components\n",
    "import operator\n",
    "betweennessSG = edge_betweenness_centrality(solverGraph)\n",
    "\n",
    "#sort dictionary by betweenness centralities\n",
    "sortedSG = sorted(betweennessSG.items(), key=operator.itemgetter(1))\n",
    "sortedSG"
   ]
  },
  {
   "cell_type": "code",
   "execution_count": 192,
   "metadata": {
    "collapsed": true
   },
   "outputs": [],
   "source": [
    "firstIteration = [];\n",
    "for edge in fixedSolver:\n",
    "    if edge[0]!=\"ThomasWilkinson\":\n",
    "        if edge[1]!=\"ThomasWilkinson\":\n",
    "            firstIteration.append(edge)"
   ]
  },
  {
   "cell_type": "markdown",
   "metadata": {},
   "source": [
    "<b>Begin trying to select edges to remove</b>"
   ]
  },
  {
   "cell_type": "code",
   "execution_count": 193,
   "metadata": {
    "collapsed": true
   },
   "outputs": [],
   "source": [
    "#This is how NetworkX defined the most central edge for the Girvan-Newman algorithm\n",
    "from random import random\n",
    "def most_central_edge(G):\n",
    "    centrality = edge_betweenness_centrality(G)\n",
    "    max_cent = max(centrality.values())\n",
    "    # Scale the centrality values so they are between 0 and 1,\n",
    "    # and add some random noise.\n",
    "    centrality = {e: c / max_cent for e, c in centrality.items()}\n",
    "    # Add some random noise.\n",
    "    centrality = {e: c + random() for e, c in centrality.items()}\n",
    "    return max(centrality, key=centrality.get)"
   ]
  },
  {
   "cell_type": "code",
   "execution_count": 194,
   "metadata": {
    "collapsed": true
   },
   "outputs": [],
   "source": [
    "#my algorithm, does use random noise, just straightforward\n",
    "def my_central_edge(G):\n",
    "    centrality = edge_betweenness_centrality(G)\n",
    "    sortedCent = sorted(centrality.items(), key=operator.itemgetter(1), reverse=True)\n",
    "    edge = sortedCent[0]\n",
    "    return edge[0]"
   ]
  },
  {
   "cell_type": "code",
   "execution_count": 195,
   "metadata": {},
   "outputs": [
    {
     "data": {
      "text/plain": [
       "('J.W.', 'ThomasWilkinson')"
      ]
     },
     "execution_count": 195,
     "metadata": {},
     "output_type": "execute_result"
    }
   ],
   "source": [
    "#most of the time returns the edge with the highest centrality, but sometimes doesn't.\n",
    "#this is due to the random \"noise\" added\n",
    "most_central_edge(solverGraph)"
   ]
  },
  {
   "cell_type": "code",
   "execution_count": 196,
   "metadata": {},
   "outputs": [
    {
     "data": {
      "text/plain": [
       "('J.W.', 'ThomasWilkinson')"
      ]
     },
     "execution_count": 196,
     "metadata": {},
     "output_type": "execute_result"
    }
   ],
   "source": [
    "my_central_edge(solverGraph) #mine, just gives the one with highest edge centrality"
   ]
  },
  {
   "cell_type": "markdown",
   "metadata": {},
   "source": [
    "<b>Now that the edge can be sorted out, need to find a way to take out edges until a new community is formed</b>"
   ]
  },
  {
   "cell_type": "code",
   "execution_count": 197,
   "metadata": {},
   "outputs": [
    {
     "data": {
      "text/plain": [
       "2"
      ]
     },
     "execution_count": 197,
     "metadata": {},
     "output_type": "execute_result"
    }
   ],
   "source": [
    "#Already know this is 2 from last weeks research.\n",
    "#1840's was a good time period to pick!\n",
    "number_connected_components(solverGraph)"
   ]
  },
  {
   "cell_type": "code",
   "execution_count": 198,
   "metadata": {},
   "outputs": [
    {
     "data": {
      "text/plain": [
       "51"
      ]
     },
     "execution_count": 198,
     "metadata": {},
     "output_type": "execute_result"
    }
   ],
   "source": [
    "#Create a temporary list and graph to remove the valueable edge\n",
    "\n",
    "tempSolver = fixedSolver\n",
    "tempGraph = solverGraph\n",
    "\n",
    "edge = my_central_edge(tempGraph)\n",
    "for x in tempSolver:\n",
    "    if x[0] == edge[0] and x[1] == edge[1]:\n",
    "        tempSolver.remove(x)\n",
    "    if x[0] == edge[1] and x[1] == edge[0]:\n",
    "        tempSolver.remove(x)\n",
    "            \n",
    "len(tempSolver)"
   ]
  },
  {
   "cell_type": "code",
   "execution_count": 199,
   "metadata": {},
   "outputs": [
    {
     "data": {
      "text/plain": [
       "2"
      ]
     },
     "execution_count": 199,
     "metadata": {},
     "output_type": "execute_result"
    }
   ],
   "source": [
    "#make the tempgraph again from the new edges and check the number of communities\n",
    "#it's still 2, so need to keep going!\n",
    "tempGraph = nx.from_edgelist(tempSolver)\n",
    "number_connected_components(tempGraph)"
   ]
  },
  {
   "cell_type": "code",
   "execution_count": null,
   "metadata": {
    "collapsed": true
   },
   "outputs": [],
   "source": [
    "def make_community(edgeList, iterations):\n",
    "    tempList = list(edgeList)\n",
    "    graph = nx.from_edgelist(tempList)\n",
    "    tempG = nx.from_edgelist(tempList)\n",
    "    communities = number_connected_components(graph)\n",
    "    compCommunities = number_connected_components(graph)\n",
    "\n",
    "    while communities < compCommunities + iterations:\n",
    "        edge = my_central_edge(tempG)\n",
    "        for x in tempSolver:\n",
    "            if (x[0] == edge[0] and x[1] == edge[1]) or (x[0] == edge[1] and x[1] == edge[0]):\n",
    "                tempSolver.remove(x)\n",
    "            tempGraph = nx.from_edgelist(tempList)\n",
    "            compCommunities = number_connected_components(tempG)\n",
    "    return edge"
   ]
  },
  {
   "cell_type": "code",
   "execution_count": null,
   "metadata": {
    "collapsed": true
   },
   "outputs": [],
   "source": [
    "make_community(fixedSolver, 1)"
   ]
  },
  {
   "cell_type": "code",
   "execution_count": null,
   "metadata": {
    "collapsed": true
   },
   "outputs": [],
   "source": []
  },
  {
   "cell_type": "code",
   "execution_count": null,
   "metadata": {
    "collapsed": true
   },
   "outputs": [],
   "source": []
  }
 ],
 "metadata": {
  "kernelspec": {
   "display_name": "Python 3",
   "language": "python",
   "name": "python3"
  },
  "language_info": {
   "codemirror_mode": {
    "name": "ipython",
    "version": 3
   },
   "file_extension": ".py",
   "mimetype": "text/x-python",
   "name": "python",
   "nbconvert_exporter": "python",
   "pygments_lexer": "ipython3",
   "version": "3.6.3"
  }
 },
 "nbformat": 4,
 "nbformat_minor": 2
}
